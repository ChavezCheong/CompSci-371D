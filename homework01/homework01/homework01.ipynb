{
 "cells": [
  {
   "cell_type": "markdown",
   "metadata": {
    "tags": [
     "AST"
    ]
   },
   "source": [
    "<style>\n",
    "    @media print{\n",
    "        body {\n",
    "            position:relative !important;\n",
    "        }\n",
    "        .celltag_new_page {\n",
    "            page-break-before: always !important;\n",
    "        }\n",
    "    }\n",
    "</style>\n",
    "# COMPSCI 371D Homework 1\n",
    "\n",
    "## Collaborators\n",
    "- Chavez Cheong\n",
    "- Khoo Qi Xuan\n",
    "- Jake Heller"
   ]
  },
  {
   "cell_type": "markdown",
   "metadata": {
    "tags": [
     "AT"
    ]
   },
   "source": [
    "### Problem 0 (3 points)"
   ]
  },
  {
   "cell_type": "markdown",
   "metadata": {
    "tags": [
     "AST"
    ]
   },
   "source": [
    "## Part 1: Sets and Functions "
   ]
  },
  {
   "cell_type": "markdown",
   "metadata": {
    "tags": [
     "AST"
    ]
   },
   "source": [
    "### Problem 1.1 (Exam Style)"
   ]
  },
  {
   "cell_type": "markdown",
   "metadata": {
    "tags": [
     "AT"
    ]
   },
   "source": [
    "$\n",
    "\\begin{array}{|c|c|c|c|c|c|c|c|}\n",
    "\t\\hline\n",
    "\t\\mbox{Domain} & \\mbox{Codomain} & \\mbox{Map} & \\mbox{Function?} & \\mbox{Injection?} & \\mbox{Surjection?} & \\mbox{Bijection?}\n",
    "\t& \\mbox{None of these} \\\\\\hline\n",
    "\t\\{1, 2\\} & \\{a, b\\} & \\{(1, a), (1, b)\\} & & & & & yes\\\\\\hline\n",
    "\t\\{1, 2\\} & \\{a, b\\} & \\{(1, a), (2, a)\\} & yes & & & & \\\\\\hline\n",
    "\t\\{1, 2\\} & \\{a, b\\} & \\{(1, b), (2, a)\\} & yes & yes & yes & yes & \\\\\\hline\n",
    "\t\\{1, 2\\} & \\{a, b, c\\} & \\{(2, a), (1, c)\\} & yes & yes & & & \\\\\\hline\n",
    "\t\\{1, 2\\} & \\{b\\} & \\{(1, b), (2, b)\\} & yes & & yes & & \\\\\\hline\n",
    "\\end{array}\n",
    "$"
   ]
  },
  {
   "cell_type": "markdown",
   "metadata": {
    "tags": [
     "AST"
    ]
   },
   "source": [
    "### Problem 1.2 (Exam Style)\n",
    "\n",
    "$n(a,b) = 2^{ab} - 1$\n",
    "\n",
    "$n(3,3) = 2^{3(3)} - 1 = 2^9-1 = 511$\n",
    "\n",
    "$n(2,4) = 2^{2(4)}-1 = 2^8-1 = 255$\n",
    "\n",
    "$n(5,3) = 2^{5(3)}-1 = 2^{15}-1 = 32767$\n"
   ]
  },
  {
   "cell_type": "markdown",
   "metadata": {
    "tags": [
     "AST"
    ]
   },
   "source": [
    "### Problem 1.3 (Exam Style)\n",
    "\n",
    "$n(a,b) = b^a$\n",
    "\n",
    "$n(3,3) =  3^3 = 27$\n",
    "\n",
    "$n(2,4) = 4^2 = 16$\n",
    "\n",
    "$n(5,3) = 3^5 = 243$\n"
   ]
  },
  {
   "cell_type": "markdown",
   "metadata": {
    "tags": [
     "AST"
    ]
   },
   "source": [
    "### Problem 1.4 (Exam Style)\n",
    "\n",
    "$n(a,b) = a!$ if $ a = b$, otherwise $n(a,b) = 0$\n",
    "\n",
    "$n(3,3) =  3! = 6$\n",
    "\n",
    "$n(2,4) = 0$\n",
    "\n",
    "$n(5,3) = 0$"
   ]
  },
  {
   "cell_type": "markdown",
   "metadata": {
    "tags": [
     "AST"
    ]
   },
   "source": [
    "### Problem 1.5 (Exam Style)\n",
    "\n",
    "$\\text{Number of distinct training sets} = {M\\choose N}2^N$\n",
    "\n",
    "When $M = 5$, $N = 2$, $\\text{number of distinct training sets} = {5\\choose 2}2^2 = 10(4) = 40$\n",
    "\n",
    "When $M = 8$, $N = 5$, $\\text{number of distinct training sets} = {8\\choose 5}2^5 = 56(32) = 1792$"
   ]
  },
  {
   "cell_type": "markdown",
   "metadata": {
    "tags": [
     "AST"
    ]
   },
   "source": [
    "## Part 2: Fitting Banded Linear Transformations "
   ]
  },
  {
   "cell_type": "markdown",
   "metadata": {
    "tags": [
     "AST"
    ]
   },
   "source": [
    "### Problem 2.1"
   ]
  },
  {
   "cell_type": "code",
   "execution_count": 1,
   "metadata": {
    "tags": [
     "AST"
    ]
   },
   "outputs": [],
   "source": [
    "from urllib.request import urlretrieve\n",
    "from os import path as osp\n",
    "\n",
    "\n",
    "def retrieve(file_name, semester='fall21', course='371d', homework=1):\n",
    "    if osp.exists(file_name):\n",
    "        print('Using previously downloaded file {}'.format(file_name))\n",
    "    else:\n",
    "        fmt = 'https://www2.cs.duke.edu/courses/{}/compsci{}/homework/{}/{}'\n",
    "        url = fmt.format(semester, course, homework, file_name)\n",
    "        urlretrieve(url, file_name)\n",
    "        print('Downloaded file {}'.format(file_name))\n"
   ]
  },
  {
   "cell_type": "code",
   "execution_count": 2,
   "metadata": {
    "tags": [
     "AST"
    ]
   },
   "outputs": [],
   "source": [
    "import pickle\n",
    "\n",
    "\n",
    "def read_data(file_name):\n",
    "    retrieve(file_name)\n",
    "    with open(file_name, 'rb') as file:\n",
    "        d = pickle.load(file)\n",
    "    return d"
   ]
  },
  {
   "cell_type": "code",
   "execution_count": 3,
   "metadata": {
    "tags": [
     "AST"
    ]
   },
   "outputs": [
    {
     "name": "stdout",
     "output_type": "stream",
     "text": [
      "Using previously downloaded file training.pkl\n",
      "Using previously downloaded file test.pkl\n"
     ]
    }
   ],
   "source": [
    "data = {data_set: read_data('{}.pkl'.format(data_set))\n",
    "        for data_set in ('training', 'test')}"
   ]
  },
  {
   "cell_type": "code",
   "execution_count": 4,
   "metadata": {
    "tags": [
     "AST"
    ]
   },
   "outputs": [],
   "source": [
    "x_tr, y_tr = data['training']['x'], data['training']['y']"
   ]
  },
  {
   "cell_type": "code",
   "execution_count": 5,
   "metadata": {
    "tags": [
     "AST"
    ]
   },
   "outputs": [],
   "source": [
    "import numpy as np\n",
    "\n",
    "\n",
    "def solve_system(u, v):\n",
    "    return np.linalg.lstsq(u, v, rcond=None)[0]"
   ]
  },
  {
   "cell_type": "code",
   "execution_count": 6,
   "metadata": {
    "tags": [
     "AST"
    ]
   },
   "outputs": [],
   "source": [
    "h = solve_system(x_tr, y_tr)"
   ]
  },
  {
   "cell_type": "code",
   "execution_count": 7,
   "metadata": {
    "tags": [
     "AST"
    ]
   },
   "outputs": [],
   "source": [
    "def residual(h, x, y):\n",
    "    diff = np.dot(x, h) - y\n",
    "    r = np.linalg.norm(diff) / np.sqrt(x.size)\n",
    "    return r"
   ]
  },
  {
   "cell_type": "code",
   "execution_count": 8,
   "metadata": {
    "tags": [
     "AST"
    ]
   },
   "outputs": [],
   "source": [
    "def diagonal_indicator(d, bandwidth):\n",
    "    ind = np.zeros((d, d))\n",
    "    for k in range(-bandwidth, bandwidth + 1):\n",
    "        length = d - np.abs(k)\n",
    "        ones = np.ones(length)\n",
    "        ind += np.diag(ones, k=k)\n",
    "    return ind.astype(bool)"
   ]
  },
  {
   "cell_type": "code",
   "execution_count": 9,
   "metadata": {
    "tags": [
     "AST"
    ]
   },
   "outputs": [],
   "source": [
    "def un_flatten_solution(h_flat, d, bandwidth):\n",
    "    indicator = diagonal_indicator(d, bandwidth)\n",
    "    h = np.zeros(d * d)\n",
    "    h[indicator.ravel()] = h_flat\n",
    "    h = np.reshape(h, (d, d))\n",
    "    return h"
   ]
  },
  {
   "cell_type": "code",
   "execution_count": 10,
   "metadata": {},
   "outputs": [
    {
     "name": "stdout",
     "output_type": "stream",
     "text": [
      "The fitting residual is 2.44e-15\n"
     ]
    }
   ],
   "source": [
    "r = residual(h, x_tr, y_tr)\n",
    "msg = 'The fitting residual is {:.3g}'\n",
    "print(msg.format(r))"
   ]
  },
  {
   "cell_type": "code",
   "execution_count": 11,
   "metadata": {},
   "outputs": [],
   "source": [
    "def flatten_system(x, y, bandwidth):\n",
    "    y = y.flatten()\n",
    "    A = np.kron(x, np.eye(x.shape[1]))\n",
    "    indicator = diagonal_indicator(x.shape[1], bandwidth).flatten()\n",
    "    A = A[:, indicator]\n",
    "    return A, y"
   ]
  },
  {
   "cell_type": "code",
   "execution_count": 12,
   "metadata": {},
   "outputs": [],
   "source": [
    "def fit_banded_system(x, y, bandwidth):\n",
    "    A, y = flatten_system(x, y, bandwidth)\n",
    "    h = solve_system(A, y)\n",
    "    H = un_flatten_solution(h, x.shape[1],bandwidth)\n",
    "    return H"
   ]
  },
  {
   "cell_type": "code",
   "execution_count": 13,
   "metadata": {},
   "outputs": [
    {
     "data": {
      "image/png": "[encoded data removed]",
      "text/plain": [
       "<Figure size 432x288 with 1 Axes>"
      ]
     },
     "metadata": {
      "needs_background": "light"
     },
     "output_type": "display_data"
    }
   ],
   "source": [
    "from matplotlib import pyplot as plt\n",
    "%matplotlib inline\n",
    "\n",
    "bandwidths = np.array(range(11))\n",
    "errors = []\n",
    "for bandwidth in bandwidths:\n",
    "    h = fit_banded_system(x_tr, y_tr, bandwidth)\n",
    "    errors.append(residual(h,x_tr,y_tr))\n",
    "plt.plot(bandwidths, errors)\n",
    "plt.show()"
   ]
  },
  {
   "cell_type": "markdown",
   "metadata": {
    "tags": [
     "AST"
    ]
   },
   "source": [
    "### Problem 2.2 (Exam Style)\n",
    "\n",
    "This must be the case, because the larger the bandwidth, the closer we get to a full matrix, where we are not only fitting the underlying data, but also fitting the noise in the training set, hence the residual errors will continue to weakly decrease."
   ]
  },
  {
   "cell_type": "markdown",
   "metadata": {
    "tags": [
     "AST"
    ]
   },
   "source": [
    "## Part 3: Learning Banded Linear Transformations "
   ]
  },
  {
   "cell_type": "markdown",
   "metadata": {
    "tags": [
     "AST"
    ]
   },
   "source": [
    "### Problem 3.1"
   ]
  },
  {
   "cell_type": "code",
   "execution_count": 14,
   "metadata": {
    "tags": [
     "AST"
    ]
   },
   "outputs": [
    {
     "data": {
      "image/png": "[encoded data removed]",
      "text/plain": [
       "<Figure size 432x288 with 1 Axes>"
      ]
     },
     "metadata": {
      "needs_background": "light"
     },
     "output_type": "display_data"
    }
   ],
   "source": [
    "x_ts, y_ts = data['test']['x'], data['test']['y']\n",
    "\n",
    "bandwidths = np.array(range(11))\n",
    "errors_train = []\n",
    "errors_test = []\n",
    "for bandwidth in bandwidths:\n",
    "    h = fit_banded_system(x_tr, y_tr, bandwidth)\n",
    "    errors_train.append(residual(h,x_tr,y_tr))\n",
    "    errors_test.append(residual(h,x_ts,y_ts))\n",
    "plt.plot(bandwidths, errors_train, label = \"train\")\n",
    "plt.plot(bandwidths, errors_test, label = \"test\")\n",
    "plt.legend(bbox_to_anchor=(1.5,1), loc=\"upper right\")\n",
    "plt.show()"
   ]
  },
  {
   "cell_type": "markdown",
   "metadata": {
    "tags": [
     "AST"
    ]
   },
   "source": [
    "### Problem 3.2 (Exam Style)\n",
    "\n",
    "The bandwidth used to generate the data was likely 3. We can tell this because it is at this point that the test residual reaches a minimum.\n",
    "\n",
    "The test residual is not monotonically decreasing because as the bandwidth increases, we begin to more heavily fit the underlying training data as well as the noise, hence we run into the problem of overfitting, where the model begins to perform worse on the test data."
   ]
  }
 ],
 "metadata": {
  "kernelspec": {
   "display_name": "Python 3",
   "language": "python",
   "name": "python3"
  },
  "language_info": {
   "codemirror_mode": {
    "name": "ipython",
    "version": 3
   },
   "file_extension": ".py",
   "mimetype": "text/x-python",
   "name": "python",
   "nbconvert_exporter": "python",
   "pygments_lexer": "ipython3",
   "version": "3.8.11"
  },
  "pycharm": {
   "stem_cell": {
    "cell_type": "raw",
    "metadata": {
     "collapsed": false
    },
    "source": []
   }
  }
 },
 "nbformat": 4,
 "nbformat_minor": 2
}
