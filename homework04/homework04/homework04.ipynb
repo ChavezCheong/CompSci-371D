{
 "cells": [
  {
   "cell_type": "markdown",
   "metadata": {
    "tags": [
     "AST"
    ]
   },
   "source": [
    "<style>\n",
    "    @media print{\n",
    "        body {\n",
    "            position:relative !important;\n",
    "        }\n",
    "        .celltag_new_page {\n",
    "            page-break-before: always !important;\n",
    "        }\n",
    "    }\n",
    "</style>\n",
    "# COMPSCI 371D Homework 4"
   ]
  },
  {
   "cell_type": "markdown",
   "metadata": {
    "tags": [
     "AT"
    ]
   },
   "source": [
    "### Problem 0 (3 points)"
   ]
  },
  {
   "cell_type": "markdown",
   "metadata": {
    "tags": [
     "AST"
    ]
   },
   "source": [
    "## Part 1: Stochastic Gradient Descent "
   ]
  },
  {
   "cell_type": "code",
   "execution_count": 1,
   "metadata": {
    "tags": [
     "AST"
    ]
   },
   "outputs": [],
   "source": [
    "from urllib.request import urlretrieve\n",
    "from os import path as osp\n",
    "\n",
    "\n",
    "def retrieve(file_name, semester='fall21', course='371d', homework=4):\n",
    "    if osp.exists(file_name):\n",
    "        print('Using previously downloaded file {}'.format(file_name))\n",
    "    else:\n",
    "        fmt = 'https://www2.cs.duke.edu/courses/{}/compsci{}/homework/{}/{}'\n",
    "        url = fmt.format(semester, course, homework, file_name)\n",
    "        urlretrieve(url, file_name)\n",
    "        print('Downloaded file {}'.format(file_name))\n"
   ]
  },
  {
   "cell_type": "code",
   "execution_count": 3,
   "metadata": {
    "tags": [
     "AST"
    ]
   },
   "outputs": [
    {
     "name": "stdout",
     "output_type": "stream",
     "text": [
      "Using previously downloaded file samples.pkl\n",
      "Using previously downloaded file decorators.py\n",
      "Using previously downloaded file function.py\n"
     ]
    }
   ],
   "source": [
    "import pickle\n",
    "\n",
    "\n",
    "data_file_name = 'samples.pkl'\n",
    "code_file_names = ('decorators.py', 'function.py')\n",
    "for name in (data_file_name, *code_file_names):\n",
    "    retrieve(name)\n",
    "\n",
    "from decorators import HistoryTracker\n",
    "from function import f, phi\n",
    "\n",
    "with open(data_file_name, 'rb') as file:\n",
    "    data = pickle.load(file)"
   ]
  },
  {
   "cell_type": "code",
   "execution_count": 4,
   "metadata": {
    "tags": [
     "AST"
    ]
   },
   "outputs": [],
   "source": [
    "import autograd.numpy as np\n",
    "from autograd import grad\n",
    "\n",
    "z_0 = np.array((0.4, 0.1))\n",
    "f_0 = f(z_0, data)\n",
    "plot_info = {\n",
    "        'z_0': z_0,\n",
    "        'f_0': f_0,\n",
    "        'z_ast': phi.z_ast,\n",
    "        'x_range': [-1., 2.5],\n",
    "        'y_range': [-2.2, 1.],\n",
    "}"
   ]
  },
  {
   "cell_type": "code",
   "execution_count": 8,
   "metadata": {
    "tags": [
     "AST"
    ]
   },
   "outputs": [],
   "source": [
    "def plot_contours(fct, samples, info, title=None, hist=None,\n",
    "                  grid_samples=101, marker_size=15, font_size=20):\n",
    "    x = np.linspace(info['x_range'][0], info['x_range'][1], grid_samples)\n",
    "    y = np.linspace(info['y_range'][0], info['y_range'][1], grid_samples)\n",
    "    box = (x[0], x[-1], y[0], y[-1])\n",
    "    x_grid, y_grid = np.meshgrid(x, y)\n",
    "    z_grid = np.stack((x_grid, y_grid), axis=0)\n",
    "    fct_grid = fct(z_grid, samples)\n",
    "    fig = plt.figure(figsize=(13, 12), tight_layout=True)\n",
    "    img = plt.imshow(fct_grid, interpolation='bilinear',\n",
    "               origin='lower', extent=box, cmap=cm.hot)\n",
    "    plt.contour(x_grid, y_grid, fct_grid, 50, colors='w', linewidths=1)\n",
    "    plt.plot(info['z_0'][0], info['z_0'][1], 'bo', markersize=marker_size)\n",
    "    plt.plot(info['z_ast'][0], info['z_ast'][1], 'go', markersize=marker_size)\n",
    "    plt.axis('scaled')\n",
    "    plt.xticks(fontsize=font_size)\n",
    "    plt.yticks(fontsize=font_size)\n",
    "    label_size = (font_size * 1.5) // 1\n",
    "    plt.xlabel('$z_0$', fontsize=label_size)\n",
    "    plt.ylabel('$z_1$', fontsize=label_size)\n",
    "    bar = fig.colorbar(img, shrink=0.72)\n",
    "    bar.ax.tick_params(labelsize=font_size)\n",
    "    if hist is not None:\n",
    "        hz = hist['z']\n",
    "        plt.plot(hz[:, 0], hz[:, 1], color='w', linewidth=2)\n",
    "    if title is not None:\n",
    "        plt.title(title, fontsize=font_size)\n",
    "    plt.show()"
   ]
  },
  {
   "cell_type": "code",
   "execution_count": 6,
   "metadata": {
    "tags": [
     "AST"
    ]
   },
   "outputs": [],
   "source": [
    "from matplotlib import pyplot as plt\n",
    "import matplotlib.cm as cm\n",
    "%matplotlib inline"
   ]
  },
  {
   "cell_type": "code",
   "execution_count": 9,
   "metadata": {
    "tags": [
     "AST"
    ]
   },
   "outputs": [],
   "source": [
    "from numpy import random as npr\n",
    "\n",
    "\n",
    "def batch_index_generator(n_samples, batch_size):\n",
    "    rg = npr.default_rng(15)\n",
    "    batch = rg.permutation(n_samples)\n",
    "    start, stop = 0, batch_size\n",
    "    while stop < n_samples:\n",
    "        yield batch[start:stop]\n",
    "        start += batch_size\n",
    "        stop += batch_size\n",
    "    stop = min(stop, n_samples)\n",
    "    yield batch[start:stop]\n",
    "\n",
    "\n",
    "@HistoryTracker\n",
    "def step(fct, samples, z, alpha):\n",
    "    def fct_batch(u):\n",
    "        return fct(u, samples)\n",
    "    z_prime = z - alpha * grad(fct_batch)(z)\n",
    "    f_prime = fct_batch(z_prime)\n",
    "    return z_prime, f_prime"
   ]
  },
  {
   "cell_type": "markdown",
   "metadata": {
    "tags": [
     "AST"
    ]
   },
   "source": [
    "### Problem 1.1 (Exam-Style)"
   ]
  },
  {
   "cell_type": "markdown",
   "metadata": {},
   "source": [
    "The number of"
   ]
  },
  {
   "cell_type": "markdown",
   "metadata": {
    "tags": [
     "AST"
    ]
   },
   "source": [
    "### Problem 1.2"
   ]
  },
  {
   "cell_type": "code",
   "execution_count": 13,
   "metadata": {},
   "outputs": [],
   "source": [
    "from tqdm import tqdm"
   ]
  },
  {
   "cell_type": "code",
   "execution_count": 14,
   "metadata": {},
   "outputs": [],
   "source": [
    "def sgd(fct, samples, z, batch_size, alpha, min_step=1.e-5, max_epochs=5000):\n",
    "    epochs = 0\n",
    "    z_step = z\n",
    "    while epochs < max_epochs or z_step > min_step:\n",
    "        z_og = z\n",
    "        for batch_indices in tqdm(batch_index_generator(len(samples), batch_size)):\n",
    "            z, fct = step(fct, samples[batch_indices], z, alpha)\n",
    "        z_step = np.linalg.norm(z_og - z)\n",
    "    if  epochs == max_epochs:\n",
    "        print(\"Maximum number of epochs exceeded\")\n",
    "    return z, epochs + 1"
   ]
  },
  {
   "cell_type": "code",
   "execution_count": null,
   "metadata": {},
   "outputs": [],
   "source": [
    "def experiment(batch_size, alpha, info):\n",
    "    step.restart(info['z_0'"
   ]
  },
  {
   "cell_type": "markdown",
   "metadata": {
    "tags": [
     "AST"
    ]
   },
   "source": [
    "### Problem 1.3 (Exam Style)"
   ]
  },
  {
   "cell_type": "markdown",
   "metadata": {
    "tags": [
     "AST"
    ]
   },
   "source": [
    "### Problem 1.4"
   ]
  },
  {
   "cell_type": "markdown",
   "metadata": {
    "tags": [
     "AST"
    ]
   },
   "source": [
    "### Problem 1.5 (Exam Style)"
   ]
  },
  {
   "cell_type": "markdown",
   "metadata": {
    "tags": [
     "AST"
    ]
   },
   "source": [
    "### Problem 1.6 (Exam Style)"
   ]
  },
  {
   "cell_type": "markdown",
   "metadata": {
    "tags": [
     "AST"
    ]
   },
   "source": [
    "## Part 2: Hyperplanes"
   ]
  },
  {
   "cell_type": "markdown",
   "metadata": {
    "tags": [
     "AST"
    ]
   },
   "source": [
    "### Problem 2.1 (Exam Style)"
   ]
  },
  {
   "cell_type": "markdown",
   "metadata": {
    "tags": [
     "AST"
    ]
   },
   "source": [
    "### Problem 2.2 (Exam Style)"
   ]
  },
  {
   "cell_type": "markdown",
   "metadata": {
    "tags": [
     "AST"
    ]
   },
   "source": [
    "### Problem 2.3 (Exam Style)"
   ]
  }
 ],
 "metadata": {
  "kernelspec": {
   "display_name": "Python 3 (ipykernel)",
   "language": "python",
   "name": "python3"
  },
  "language_info": {
   "codemirror_mode": {
    "name": "ipython",
    "version": 3
   },
   "file_extension": ".py",
   "mimetype": "text/x-python",
   "name": "python",
   "nbconvert_exporter": "python",
   "pygments_lexer": "ipython3",
   "version": "3.9.6"
  },
  "pycharm": {
   "stem_cell": {
    "cell_type": "raw",
    "metadata": {
     "collapsed": false
    },
    "source": []
   }
  }
 },
 "nbformat": 4,
 "nbformat_minor": 4
}
